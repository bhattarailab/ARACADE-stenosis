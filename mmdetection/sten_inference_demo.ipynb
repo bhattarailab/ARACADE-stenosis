{
 "cells": [
  {
   "cell_type": "code",
   "execution_count": null,
   "metadata": {},
   "outputs": [],
   "source": [
    "from mmdet.apis import init_detector, inference_detector\n",
    "from mmdet.utils import register_all_modules\n",
    "from mmdet.registry import VISUALIZERS\n",
    "import mmcv\n",
    "from pycocotools import mask\n",
    "import json\n",
    "import numpy as np\n",
    "import os\n",
    "import glob\n",
    "from skimage import measure\n",
    "from shapely.geometry import Polygon,MultiPolygon"
   ]
  },
  {
   "cell_type": "code",
   "execution_count": null,
   "metadata": {},
   "outputs": [],
   "source": [
    "#config path\n",
    "config_file = 'my_results/original_convnext_v2_mask_rcnn.py'\n",
    "#model path\n",
    "checkpoint_file = 'my_results/best_coco_segm_mAP_50_epoch_33.pth'"
   ]
  },
  {
   "cell_type": "code",
   "execution_count": null,
   "metadata": {},
   "outputs": [],
   "source": [
    "#Register all modules in mmdet into the registries\n",
    "register_all_modules()\n",
    "# build the model from a config file and a checkpoint file\n",
    "model = init_detector(config_file, checkpoint_file, device='cuda:0')  # or device='cpu'"
   ]
  },
  {
   "cell_type": "code",
   "execution_count": null,
   "metadata": {},
   "outputs": [],
   "source": [
    "with open(\"/home/sbhandari/seg/mmdetection/empt_ann.json\") as file:\n",
    "    gt = json.load(file)\n",
    "\n",
    "empty_submit = dict()\n",
    "empty_submit[\"images\"] = []\n",
    "empty_submit[\"categories\"] = gt[\"categories\"]\n",
    "empty_submit[\"annotations\"] = []"
   ]
  },
  {
   "cell_type": "code",
   "execution_count": null,
   "metadata": {},
   "outputs": [],
   "source": [
    "count_anns = 1\n",
    "#set your own path\n",
    "images = glob.glob(\"test_cases_stenosis/images/\" + \"*.png\")\n",
    "# print(images)\n",
    "for image in images:\n",
    "    # print(image)\n",
    "    img = mmcv.imread( image, channel_order='rgb')\n",
    "    image_id = int(os.path.splitext(os.path.basename(image))[0])\n",
    "    empty_submit[\"images\"].append({'id': image_id, 'width': 512, 'height': 512, 'license':0,'date_captured':str(0), 'file_name': str(image_id)+'.png'})\n",
    "    result = inference_detector(model, img)\n",
    "    print(f\" Inferred {image_id} \")\n",
    "    masks = result.pred_instances.masks.cpu().numpy()\n",
    "    scores = result.pred_instances.scores.cpu().numpy()\n",
    "    labels = result.pred_instances.labels.cpu().numpy()\n",
    "    boxes = result.pred_instances.bboxes.cpu().numpy() \n",
    "    indexes = np.flip(np.argsort(scores))\n",
    "    print(indexes)\n",
    "    count = 0   \n",
    "    while count<3 and count < len(indexes):#or indexes.size != 0 :\n",
    "        \n",
    "        index = indexes[count]\n",
    "        score = scores[index]\n",
    "        count += 1\n",
    "        if score>0.8:\n",
    "            mask = masks[index]\n",
    "            label= labels[index]\n",
    "            box = boxes[index]\n",
    "            contours = measure.find_contours(mask)\n",
    "            \n",
    "            for contour in contours:             \n",
    "                    for i in range(len(contour)):\n",
    "                        row, col = contour[i]\n",
    "                        contour[i] = (col - 1, row - 1)\n",
    "\n",
    "                    # Simplify polygon\n",
    "                    poly = Polygon(contour)\n",
    "                    poly = poly.simplify(1.0, preserve_topology=False)\n",
    "            \n",
    "                    if(poly.is_empty):\n",
    "                        continue\n",
    "                    segmentation = np.array(poly.exterior.coords).ravel().tolist()\n",
    "                    new_ann = dict()\n",
    "                    new_ann[\"id\"] = count_anns\n",
    "                    new_ann[\"image_id\"] = image_id\n",
    "                    new_ann[\"category_id\"] = (label+26).tolist()\n",
    "                    new_ann[\"segmentation\"] = [segmentation]\n",
    "                    area = poly.area\n",
    "                    new_ann[\"area\"] = area\n",
    "                    x, y = contour.min(axis=0)\n",
    "                    w, h = contour.max(axis=0) - contour.min(axis=0)\n",
    "                    new_ann[\"bbox\"]  = [int(x), int(y), int(w), int(h)]\n",
    "                    new_ann[\"iscrowd\"] = 0\n",
    "                    new_ann[\"attributes\"] = {\n",
    "                        \"occluded\": False\n",
    "                    }\n",
    "                    \n",
    "                    # if int(area)>90:\n",
    "                    count_anns += 1\n",
    "                    empty_submit[\"annotations\"].append(new_ann.copy())\n",
    "\n",
    "    #"
   ]
  },
  {
   "cell_type": "code",
   "execution_count": null,
   "metadata": {},
   "outputs": [],
   "source": [
    "with open(\"input_coco.json\", \"w\") as file:\n",
    "    json.dump(empty_submit, file)"
   ]
  }
 ],
 "metadata": {
  "kernelspec": {
   "display_name": "mmdet",
   "language": "python",
   "name": "python3"
  },
  "language_info": {
   "codemirror_mode": {
    "name": "ipython",
    "version": 3
   },
   "file_extension": ".py",
   "mimetype": "text/x-python",
   "name": "python",
   "nbconvert_exporter": "python",
   "pygments_lexer": "ipython3",
   "version": "3.8.10"
  },
  "pycharm": {
   "stem_cell": {
    "cell_type": "raw",
    "metadata": {
     "collapsed": false
    },
    "source": []
   }
  },
  "vscode": {
   "interpreter": {
    "hash": "26395be4d8bd6f462fe6992ade267d864a329fc5ba918775a7fc2edf93f1463b"
   }
  }
 },
 "nbformat": 4,
 "nbformat_minor": 4
}
